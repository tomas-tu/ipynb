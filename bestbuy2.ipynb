{
 "cells": [
  {
   "cell_type": "markdown",
   "metadata": {},
   "source": [
    "### 导入需要的包"
   ]
  },
  {
   "cell_type": "code",
   "execution_count": 1,
   "metadata": {
    "ExecuteTime": {
     "end_time": "2020-11-19T02:13:13.536029Z",
     "start_time": "2020-11-19T02:13:03.960141Z"
    },
    "scrolled": true
   },
   "outputs": [
    {
     "name": "stdout",
     "output_type": "stream",
     "text": [
      "Unable to locate an executable at \"/Library/Java/JavaVirtualMachines/jdk1.8.0_211.jdk/Contents/Home/bin/apt\" (-1)\n",
      "Unable to locate an executable at \"/Library/Java/JavaVirtualMachines/jdk1.8.0_211.jdk/Contents/Home/bin/apt\" (-1)\n",
      "Requirement already satisfied: selenium in /opt/anaconda3/lib/python3.7/site-packages (3.141.0)\n",
      "Requirement already satisfied: urllib3 in /opt/anaconda3/lib/python3.7/site-packages (from selenium) (1.25.8)\n",
      "Requirement already satisfied: webdriver_manager in /opt/anaconda3/lib/python3.7/site-packages (3.2.1)\n",
      "Requirement already satisfied: configparser in /opt/anaconda3/lib/python3.7/site-packages (from webdriver_manager) (5.0.0)\n",
      "Requirement already satisfied: requests in /opt/anaconda3/lib/python3.7/site-packages (from webdriver_manager) (2.22.0)\n",
      "Requirement already satisfied: crayons in /opt/anaconda3/lib/python3.7/site-packages (from webdriver_manager) (0.3.1)\n",
      "Requirement already satisfied: idna<2.9,>=2.5 in /opt/anaconda3/lib/python3.7/site-packages (from requests->webdriver_manager) (2.8)\n",
      "Requirement already satisfied: urllib3!=1.25.0,!=1.25.1,<1.26,>=1.21.1 in /opt/anaconda3/lib/python3.7/site-packages (from requests->webdriver_manager) (1.25.8)\n",
      "Requirement already satisfied: certifi>=2017.4.17 in /opt/anaconda3/lib/python3.7/site-packages (from requests->webdriver_manager) (2019.11.28)\n",
      "Requirement already satisfied: chardet<3.1.0,>=3.0.2 in /opt/anaconda3/lib/python3.7/site-packages (from requests->webdriver_manager) (3.0.4)\n",
      "Requirement already satisfied: colorama in /opt/anaconda3/lib/python3.7/site-packages (from crayons->webdriver_manager) (0.4.3)\n",
      "Requirement already satisfied: pygsheets in /opt/anaconda3/lib/python3.7/site-packages (2.0.3.1)\n",
      "Requirement already satisfied: oauth2client in /opt/anaconda3/lib/python3.7/site-packages (from pygsheets) (4.1.3)\n",
      "Requirement already satisfied: google-api-python-client>=1.5.5 in /opt/anaconda3/lib/python3.7/site-packages (from pygsheets) (1.12.5)\n",
      "Requirement already satisfied: google-auth-oauthlib in /opt/anaconda3/lib/python3.7/site-packages (from pygsheets) (0.4.2)\n",
      "Requirement already satisfied: rsa>=3.1.4 in /opt/anaconda3/lib/python3.7/site-packages (from oauth2client->pygsheets) (4.6)\n",
      "Requirement already satisfied: pyasn1-modules>=0.0.5 in /opt/anaconda3/lib/python3.7/site-packages (from oauth2client->pygsheets) (0.2.8)\n",
      "Requirement already satisfied: pyasn1>=0.1.7 in /opt/anaconda3/lib/python3.7/site-packages (from oauth2client->pygsheets) (0.4.8)\n",
      "Requirement already satisfied: httplib2>=0.9.1 in /opt/anaconda3/lib/python3.7/site-packages (from oauth2client->pygsheets) (0.18.1)\n",
      "Requirement already satisfied: six>=1.6.1 in /opt/anaconda3/lib/python3.7/site-packages (from oauth2client->pygsheets) (1.14.0)\n",
      "Requirement already satisfied: uritemplate<4dev,>=3.0.0 in /opt/anaconda3/lib/python3.7/site-packages (from google-api-python-client>=1.5.5->pygsheets) (3.0.1)\n",
      "Requirement already satisfied: google-auth-httplib2>=0.0.3 in /opt/anaconda3/lib/python3.7/site-packages (from google-api-python-client>=1.5.5->pygsheets) (0.0.4)\n",
      "Requirement already satisfied: google-api-core<2dev,>=1.21.0 in /opt/anaconda3/lib/python3.7/site-packages (from google-api-python-client>=1.5.5->pygsheets) (1.22.2)\n",
      "Requirement already satisfied: google-auth>=1.16.0 in /opt/anaconda3/lib/python3.7/site-packages (from google-api-python-client>=1.5.5->pygsheets) (1.21.2)\n",
      "Requirement already satisfied: requests-oauthlib>=0.7.0 in /opt/anaconda3/lib/python3.7/site-packages (from google-auth-oauthlib->pygsheets) (1.3.0)\n",
      "Requirement already satisfied: googleapis-common-protos<2.0dev,>=1.6.0 in /opt/anaconda3/lib/python3.7/site-packages (from google-api-core<2dev,>=1.21.0->google-api-python-client>=1.5.5->pygsheets) (1.52.0)\n",
      "Requirement already satisfied: protobuf>=3.12.0 in /opt/anaconda3/lib/python3.7/site-packages (from google-api-core<2dev,>=1.21.0->google-api-python-client>=1.5.5->pygsheets) (3.13.0)\n",
      "Requirement already satisfied: pytz in /opt/anaconda3/lib/python3.7/site-packages (from google-api-core<2dev,>=1.21.0->google-api-python-client>=1.5.5->pygsheets) (2019.3)\n",
      "Requirement already satisfied: requests<3.0.0dev,>=2.18.0 in /opt/anaconda3/lib/python3.7/site-packages (from google-api-core<2dev,>=1.21.0->google-api-python-client>=1.5.5->pygsheets) (2.22.0)\n",
      "Requirement already satisfied: setuptools>=34.0.0 in /opt/anaconda3/lib/python3.7/site-packages (from google-api-core<2dev,>=1.21.0->google-api-python-client>=1.5.5->pygsheets) (46.0.0.post20200309)\n",
      "Requirement already satisfied: cachetools<5.0,>=2.0.0 in /opt/anaconda3/lib/python3.7/site-packages (from google-auth>=1.16.0->google-api-python-client>=1.5.5->pygsheets) (4.1.1)\n",
      "Requirement already satisfied: oauthlib>=3.0.0 in /opt/anaconda3/lib/python3.7/site-packages (from requests-oauthlib>=0.7.0->google-auth-oauthlib->pygsheets) (3.1.0)\n",
      "Requirement already satisfied: certifi>=2017.4.17 in /opt/anaconda3/lib/python3.7/site-packages (from requests<3.0.0dev,>=2.18.0->google-api-core<2dev,>=1.21.0->google-api-python-client>=1.5.5->pygsheets) (2019.11.28)\n",
      "Requirement already satisfied: chardet<3.1.0,>=3.0.2 in /opt/anaconda3/lib/python3.7/site-packages (from requests<3.0.0dev,>=2.18.0->google-api-core<2dev,>=1.21.0->google-api-python-client>=1.5.5->pygsheets) (3.0.4)\n",
      "Requirement already satisfied: urllib3!=1.25.0,!=1.25.1,<1.26,>=1.21.1 in /opt/anaconda3/lib/python3.7/site-packages (from requests<3.0.0dev,>=2.18.0->google-api-core<2dev,>=1.21.0->google-api-python-client>=1.5.5->pygsheets) (1.25.8)\n",
      "Requirement already satisfied: idna<2.9,>=2.5 in /opt/anaconda3/lib/python3.7/site-packages (from requests<3.0.0dev,>=2.18.0->google-api-core<2dev,>=1.21.0->google-api-python-client>=1.5.5->pygsheets) (2.8)\n",
      "Collecting google-api-python-client\n",
      "  Downloading google_api_python_client-1.12.8-py2.py3-none-any.whl (61 kB)\n",
      "\u001b[K     |████████████████████████████████| 61 kB 61 kB/s  eta 0:00:01\n",
      "\u001b[?25hRequirement already up-to-date: google-auth-httplib2 in /opt/anaconda3/lib/python3.7/site-packages (0.0.4)\n",
      "Requirement already up-to-date: google-auth-oauthlib in /opt/anaconda3/lib/python3.7/site-packages (0.4.2)\n",
      "Requirement already satisfied, skipping upgrade: google-auth>=1.16.0 in /opt/anaconda3/lib/python3.7/site-packages (from google-api-python-client) (1.21.2)\n",
      "Requirement already satisfied, skipping upgrade: six<2dev,>=1.13.0 in /opt/anaconda3/lib/python3.7/site-packages (from google-api-python-client) (1.14.0)\n",
      "Requirement already satisfied, skipping upgrade: uritemplate<4dev,>=3.0.0 in /opt/anaconda3/lib/python3.7/site-packages (from google-api-python-client) (3.0.1)\n",
      "Requirement already satisfied, skipping upgrade: google-api-core<2dev,>=1.21.0 in /opt/anaconda3/lib/python3.7/site-packages (from google-api-python-client) (1.22.2)\n",
      "Requirement already satisfied, skipping upgrade: httplib2<1dev,>=0.15.0 in /opt/anaconda3/lib/python3.7/site-packages (from google-api-python-client) (0.18.1)\n",
      "Requirement already satisfied, skipping upgrade: requests-oauthlib>=0.7.0 in /opt/anaconda3/lib/python3.7/site-packages (from google-auth-oauthlib) (1.3.0)\n",
      "Requirement already satisfied, skipping upgrade: rsa<5,>=3.1.4; python_version >= \"3.5\" in /opt/anaconda3/lib/python3.7/site-packages (from google-auth>=1.16.0->google-api-python-client) (4.6)\n",
      "Requirement already satisfied, skipping upgrade: setuptools>=40.3.0 in /opt/anaconda3/lib/python3.7/site-packages (from google-auth>=1.16.0->google-api-python-client) (46.0.0.post20200309)\n",
      "Requirement already satisfied, skipping upgrade: cachetools<5.0,>=2.0.0 in /opt/anaconda3/lib/python3.7/site-packages (from google-auth>=1.16.0->google-api-python-client) (4.1.1)\n",
      "Requirement already satisfied, skipping upgrade: pyasn1-modules>=0.2.1 in /opt/anaconda3/lib/python3.7/site-packages (from google-auth>=1.16.0->google-api-python-client) (0.2.8)\n",
      "Requirement already satisfied, skipping upgrade: pytz in /opt/anaconda3/lib/python3.7/site-packages (from google-api-core<2dev,>=1.21.0->google-api-python-client) (2019.3)\n",
      "Requirement already satisfied, skipping upgrade: googleapis-common-protos<2.0dev,>=1.6.0 in /opt/anaconda3/lib/python3.7/site-packages (from google-api-core<2dev,>=1.21.0->google-api-python-client) (1.52.0)\n",
      "Requirement already satisfied, skipping upgrade: requests<3.0.0dev,>=2.18.0 in /opt/anaconda3/lib/python3.7/site-packages (from google-api-core<2dev,>=1.21.0->google-api-python-client) (2.22.0)\n",
      "Requirement already satisfied, skipping upgrade: protobuf>=3.12.0 in /opt/anaconda3/lib/python3.7/site-packages (from google-api-core<2dev,>=1.21.0->google-api-python-client) (3.13.0)\n"
     ]
    },
    {
     "name": "stdout",
     "output_type": "stream",
     "text": [
      "Requirement already satisfied, skipping upgrade: oauthlib>=3.0.0 in /opt/anaconda3/lib/python3.7/site-packages (from requests-oauthlib>=0.7.0->google-auth-oauthlib) (3.1.0)\n",
      "Requirement already satisfied, skipping upgrade: pyasn1>=0.1.3 in /opt/anaconda3/lib/python3.7/site-packages (from rsa<5,>=3.1.4; python_version >= \"3.5\"->google-auth>=1.16.0->google-api-python-client) (0.4.8)\n",
      "Requirement already satisfied, skipping upgrade: chardet<3.1.0,>=3.0.2 in /opt/anaconda3/lib/python3.7/site-packages (from requests<3.0.0dev,>=2.18.0->google-api-core<2dev,>=1.21.0->google-api-python-client) (3.0.4)\n",
      "Requirement already satisfied, skipping upgrade: certifi>=2017.4.17 in /opt/anaconda3/lib/python3.7/site-packages (from requests<3.0.0dev,>=2.18.0->google-api-core<2dev,>=1.21.0->google-api-python-client) (2019.11.28)\n",
      "Requirement already satisfied, skipping upgrade: urllib3!=1.25.0,!=1.25.1,<1.26,>=1.21.1 in /opt/anaconda3/lib/python3.7/site-packages (from requests<3.0.0dev,>=2.18.0->google-api-core<2dev,>=1.21.0->google-api-python-client) (1.25.8)\n",
      "Requirement already satisfied, skipping upgrade: idna<2.9,>=2.5 in /opt/anaconda3/lib/python3.7/site-packages (from requests<3.0.0dev,>=2.18.0->google-api-core<2dev,>=1.21.0->google-api-python-client) (2.8)\n",
      "Installing collected packages: google-api-python-client\n",
      "  Attempting uninstall: google-api-python-client\n",
      "    Found existing installation: google-api-python-client 1.12.5\n",
      "    Uninstalling google-api-python-client-1.12.5:\n",
      "      Successfully uninstalled google-api-python-client-1.12.5\n",
      "Successfully installed google-api-python-client-1.12.8\n"
     ]
    }
   ],
   "source": [
    "!apt update\n",
    "!apt install chromium-chromedriver\n",
    "\n",
    "# 检查环境中是否有selenium/webdriver_manager，若无，则直接安装\n",
    "# 安装依赖\n",
    "!pip install selenium\n",
    "!pip install webdriver_manager\n",
    "\n",
    "# https://developers.google.com/drive/api/v3/quickstart/python\n",
    "!pip install pygsheets\n",
    "!pip install -U google-api-python-client google-auth-httplib2 google-auth-oauthlib\n"
   ]
  },
  {
   "cell_type": "code",
   "execution_count": 2,
   "metadata": {
    "ExecuteTime": {
     "end_time": "2020-11-19T02:13:25.032605Z",
     "start_time": "2020-11-19T02:13:24.772451Z"
    }
   },
   "outputs": [],
   "source": [
    "from selenium import webdriver\n",
    "from webdriver_manager.chrome import ChromeDriverManager\n",
    "import time\n",
    "from selenium.webdriver.chrome.options import Options\n",
    "from selenium.webdriver.common.by import By\n",
    "from selenium.webdriver.support.ui import WebDriverWait\n",
    "from selenium.webdriver.common.action_chains import ActionChains"
   ]
  },
  {
   "cell_type": "code",
   "execution_count": 3,
   "metadata": {
    "ExecuteTime": {
     "end_time": "2020-11-19T02:13:29.868547Z",
     "start_time": "2020-11-19T02:13:28.376482Z"
    }
   },
   "outputs": [
    {
     "name": "stdout",
     "output_type": "stream",
     "text": [
      "/Users/anker/.google_helper\n"
     ]
    }
   ],
   "source": [
    "# 这一块代码，大家可以不需要了解意思，只要 copy 过来就好了\n",
    "from __future__ import print_function\n",
    "from pathlib import Path\n",
    "import os\n",
    "import io\n",
    "import pickle\n",
    "import os.path\n",
    "from googleapiclient.discovery import build\n",
    "from google_auth_oauthlib.flow import InstalledAppFlow\n",
    "from google.auth.transport.requests import Request\n",
    "from apiclient import errors\n",
    "from googleapiclient.http import MediaIoBaseDownload\n",
    "\n",
    "import pygsheets\n",
    "import pandas as pd\n",
    "\n",
    "# If modifying these scopes, delete the file token.pickle.\n",
    "SCOPES = [\n",
    "    'https://www.googleapis.com/auth/spreadsheets',\n",
    "    'https://www.googleapis.com/auth/drive'\n",
    "]\n",
    "\n",
    "# add profile just for support different google accounts\n",
    "def get_creds(profile=\"\"):\n",
    "    \"\"\"Shows basic usage of the Drive v3 API.\n",
    "    Prints the names and ids of the first 10 files the user has access to.\n",
    "    \"\"\"\n",
    "    creds = None\n",
    "    # The file token.pickle stores the user's access and refresh tokens, and is\n",
    "    # created automatically when the authorization flow completes for the first\n",
    "    # time.\n",
    "    home = str(Path.home())\n",
    "    google_helper = os.path.join(home,\".google_helper\")\n",
    "    print(google_helper)\n",
    "    Path(google_helper).mkdir(parents=True, exist_ok=True)\n",
    "    \n",
    "    if len(profile)>0:\n",
    "        token_path = os.path.join(home,\".google_helper\",\"{}_token.pickle\".format(profile))\n",
    "        credential_path = os.path.join(home,\".google_helper\",\"{}_credentials.json\".format(profile))\n",
    "    else:\n",
    "        token_path = os.path.join(home,\".google_helper\",\"token.pickle\")\n",
    "        credential_path = os.path.join(home,\".google_helper\",\"credentials.json\")\n",
    "\n",
    "    if not os.path.exists(credential_path):\n",
    "        print(\"Google 授权文件:{}, 不存在!\".format(credential_path))\n",
    "        print(\"请把 credentials.json 放在 {} 这个目录下 :\".format(google_helper))\n",
    "        return None\n",
    "        \n",
    "    if os.path.exists(token_path):\n",
    "        with open(token_path, 'rb') as token:\n",
    "            creds = pickle.load(token)\n",
    "    \n",
    "    # If there are no (valid) credentials available, let the user log in.\n",
    "    if not creds or not creds.valid:\n",
    "        if creds and creds.expired and creds.refresh_token:\n",
    "            creds.refresh(Request())\n",
    "        else:\n",
    "            flow = InstalledAppFlow.from_client_secrets_file(\n",
    "                credential_path, SCOPES)\n",
    "            creds = flow.run_local_server(port=0)\n",
    "        # Save the credentials for the next run\n",
    "        with open(token_path, 'wb') as token:\n",
    "            pickle.dump(creds, token)\n",
    "    return creds\n",
    "# 得到 google drive/sheet 的权限\n",
    "creds = get_creds()\n",
    "if creds is None:\n",
    "    print(\"请配好权限！\")"
   ]
  },
  {
   "cell_type": "code",
   "execution_count": 4,
   "metadata": {
    "ExecuteTime": {
     "end_time": "2020-11-19T02:13:31.196331Z",
     "start_time": "2020-11-19T02:13:31.191197Z"
    }
   },
   "outputs": [],
   "source": [
    "## 定义访问的链接\n",
    "HOME_URL = 'https://www.naver.com/'"
   ]
  },
  {
   "cell_type": "code",
   "execution_count": 5,
   "metadata": {
    "ExecuteTime": {
     "end_time": "2020-11-19T02:13:36.228196Z",
     "start_time": "2020-11-19T02:13:32.777591Z"
    },
    "scrolled": false
   },
   "outputs": [
    {
     "name": "stderr",
     "output_type": "stream",
     "text": [
      "[WDM] - Current google-chrome version is 87.0.4280\n",
      "[WDM] - Get LATEST driver version for 87.0.4280\n",
      "[WDM] - Driver [/Users/anker/.wdm/drivers/chromedriver/mac64/87.0.4280.20/chromedriver] found in cache\n"
     ]
    },
    {
     "name": "stdout",
     "output_type": "stream",
     "text": [
      " \n"
     ]
    }
   ],
   "source": [
    "chrome_options = webdriver.ChromeOptions()\n",
    "###chrome_options.add_argument('--user-data-dir=chrome-data') # 使用chrome缓存的用户信息\n",
    "\n",
    "# 其它使用ChromeDriverManager(要求系统中有chrome浏览器)\n",
    "driver = webdriver.Chrome(ChromeDriverManager().install(), options=chrome_options)\n",
    "\n",
    "#driver.maximize_window()\n",
    "# 全屏显示\n",
    "#driver.fullscreen_window()"
   ]
  },
  {
   "cell_type": "markdown",
   "metadata": {},
   "source": [
    "## 主程序"
   ]
  },
  {
   "cell_type": "code",
   "execution_count": 6,
   "metadata": {
    "ExecuteTime": {
     "end_time": "2020-11-19T02:13:52.430683Z",
     "start_time": "2020-11-19T02:13:42.687476Z"
    }
   },
   "outputs": [],
   "source": [
    "## 第一步访问链接\n",
    "driver.get(HOME_URL)"
   ]
  },
  {
   "cell_type": "code",
   "execution_count": null,
   "metadata": {
    "ExecuteTime": {
     "end_time": "2020-11-19T02:13:52.483350Z",
     "start_time": "2020-11-19T02:13:49.855Z"
    }
   },
   "outputs": [],
   "source": [
    "## 关掉弹出来的广告\n",
    "ad_path = '//*[@id=\"widgets-view-email-modal-mount\"]/div/div/div[1]/div/div/div/div/button'\n",
    "driver.find_element_by_xpath(ad_path).click()"
   ]
  },
  {
   "cell_type": "code",
   "execution_count": 9,
   "metadata": {
    "ExecuteTime": {
     "end_time": "2020-11-19T02:14:11.836345Z",
     "start_time": "2020-11-19T02:14:11.807651Z"
    }
   },
   "outputs": [],
   "source": [
    "## 定位到搜索框  //*[@id=\"query\"]\n",
    "search_input_path = '//*[@id=\"query\"]'\n",
    "search_input = driver.find_element_by_xpath(search_input_path)"
   ]
  },
  {
   "cell_type": "code",
   "execution_count": 10,
   "metadata": {
    "ExecuteTime": {
     "end_time": "2020-11-19T02:14:13.529065Z",
     "start_time": "2020-11-19T02:14:13.290056Z"
    }
   },
   "outputs": [],
   "source": [
    "## 输入要搜索的关键词\n",
    "## 这里输入关键词 可以考虑去读取表格 然后循环查询不同的关键词写入不同的sheet\n",
    "\n",
    "search_input.send_keys('bluetooth speaker')\n"
   ]
  },
  {
   "cell_type": "code",
   "execution_count": 11,
   "metadata": {
    "ExecuteTime": {
     "end_time": "2020-11-19T02:14:26.053366Z",
     "start_time": "2020-11-19T02:14:19.822019Z"
    }
   },
   "outputs": [],
   "source": [
    "## 点击搜索 //*[@id=\"search_btn\"]/div[2]/div[1]/div/div[2]/div/div[1]/div/div/form/button[2]\n",
    "search_click_path = '//*[@id=\"search_btn\"]/div[2]/div[1]/div/div[2]/div/div[1]/div/div/form/button[2]'\n",
    "driver.find_element_by_xpath(search_click_path).click()"
   ]
  },
  {
   "cell_type": "code",
   "execution_count": 13,
   "metadata": {
    "ExecuteTime": {
     "end_time": "2020-11-19T02:14:30.178049Z",
     "start_time": "2020-11-19T02:14:30.173752Z"
    }
   },
   "outputs": [],
   "source": [
    "## 将抓取到的信息封装成一个字典\n",
    "def get_sku_item_info(element_item):\n",
    "    sku_title = element_item.find_element_by_xpath(\".//*[@class='sku-header']\").text\n",
    "    sku = element_item.find_element_by_xpath(\".//*[@class='sku-value']\").text\n",
    "    price = element_item.find_element_by_xpath(\".//*[@class='priceView-hero-price priceView-customer-price']/span[1]\").text\n",
    "    ##  可以在这里继续加数据 抓取剩余的数据\n",
    "    return {\"sku_title\":sku_title,\"sku\":sku,\"price\":price}"
   ]
  },
  {
   "cell_type": "code",
   "execution_count": 17,
   "metadata": {
    "ExecuteTime": {
     "end_time": "2020-11-19T02:17:54.832098Z",
     "start_time": "2020-11-19T02:17:51.497448Z"
    },
    "scrolled": true
   },
   "outputs": [
    {
     "name": "stdout",
     "output_type": "stream",
     "text": [
      "Main Results Continued\n",
      "Main Results Continued\n",
      "Main Results Continued\n"
     ]
    }
   ],
   "source": [
    "## 没有翻页的\n",
    "\n",
    "## 嗯从这里开始我也不知道我在干啥 //*[@data-email=\"'+handover_people+'\"]\n",
    "## priceView-hero-price priceView-customer-price\n",
    "## //*[@id=\"pricing-price-45499384\"]/div/div/div/div/div[2]/div/div/div/span[1]\n",
    "## class=\"sku-header\"\n",
    "sku_list = []\n",
    "##  抓取之前记得处理等待时间 如果网页还没加载完成 会报错的 \n",
    "result_element =  driver.find_elements_by_xpath('//*[@id=\"main-results\"]/ol/li')\n",
    "for element_item in result_element:\n",
    "    ## 注意try except的用法\n",
    "    try:\n",
    "        sku_list.append(get_sku_item_info(element_item))\n",
    "    except:\n",
    "        print(\"Main Results Continued\")\n",
    "\n",
    "## 利用字典 拼接df数据 https://blog.csdn.net/u010199356/article/details/85697860 学会查资料\n",
    "df = pd.DataFrame(sku_list, columns = [\"sku_title\", \"sku\", \"price\"])\n",
    "\n",
    "# 验证登录\n",
    "gc = pygsheets.authorize(custom_credentials=creds)\n",
    "\n",
    "# 创建一个 Google Sheet\n",
    "sheet_table = gc.create('skuItemInfo')\n",
    "sheet = sheet_table.worksheet_by_title('Sheet1')\n",
    "sheet.set_dataframe(df,(1,1))\n",
    "\n",
    "    "
   ]
  },
  {
   "cell_type": "code",
   "execution_count": null,
   "metadata": {},
   "outputs": [],
   "source": [
    "## 翻页的 如果有翻页可以考虑\n",
    "\n",
    "    "
   ]
  },
  {
   "cell_type": "code",
   "execution_count": null,
   "metadata": {},
   "outputs": [],
   "source": []
  }
 ],
 "metadata": {
  "kernelspec": {
   "display_name": "Python 3",
   "language": "python",
   "name": "python3"
  },
  "language_info": {
   "codemirror_mode": {
    "name": "ipython",
    "version": 3
   },
   "file_extension": ".py",
   "mimetype": "text/x-python",
   "name": "python",
   "nbconvert_exporter": "python",
   "pygments_lexer": "ipython3",
   "version": "3.7.6"
  },
  "toc": {
   "base_numbering": 1,
   "nav_menu": {},
   "number_sections": true,
   "sideBar": true,
   "skip_h1_title": false,
   "title_cell": "Table of Contents",
   "title_sidebar": "Contents",
   "toc_cell": false,
   "toc_position": {},
   "toc_section_display": true,
   "toc_window_display": false
  },
  "varInspector": {
   "cols": {
    "lenName": 16,
    "lenType": 16,
    "lenVar": 40
   },
   "kernels_config": {
    "python": {
     "delete_cmd_postfix": "",
     "delete_cmd_prefix": "del ",
     "library": "var_list.py",
     "varRefreshCmd": "print(var_dic_list())"
    },
    "r": {
     "delete_cmd_postfix": ") ",
     "delete_cmd_prefix": "rm(",
     "library": "var_list.r",
     "varRefreshCmd": "cat(var_dic_list()) "
    }
   },
   "types_to_exclude": [
    "module",
    "function",
    "builtin_function_or_method",
    "instance",
    "_Feature"
   ],
   "window_display": false
  }
 },
 "nbformat": 4,
 "nbformat_minor": 4
}
