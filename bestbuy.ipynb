{
 "cells": [
  {
   "cell_type": "markdown",
   "metadata": {},
   "source": [
    "### 导入需要的包"
   ]
  },
  {
   "cell_type": "code",
   "execution_count": 1,
   "metadata": {
    "ExecuteTime": {
     "end_time": "2020-12-30T03:52:30.679095Z",
     "start_time": "2020-12-30T03:52:16.896244Z"
    },
    "scrolled": true
   },
   "outputs": [
    {
     "name": "stdout",
     "output_type": "stream",
     "text": [
      "No Java runtime present, requesting install.\n",
      "No Java runtime present, requesting install.\n",
      "Requirement already satisfied: selenium in /opt/anaconda3/lib/python3.8/site-packages (3.141.0)\n",
      "Requirement already satisfied: urllib3 in /opt/anaconda3/lib/python3.8/site-packages (from selenium) (1.25.9)\n",
      "Requirement already satisfied: webdriver_manager in /opt/anaconda3/lib/python3.8/site-packages (3.2.2)\n",
      "Requirement already satisfied: crayons in /opt/anaconda3/lib/python3.8/site-packages (from webdriver_manager) (0.4.0)\n",
      "Requirement already satisfied: configparser in /opt/anaconda3/lib/python3.8/site-packages (from webdriver_manager) (5.0.1)\n",
      "Requirement already satisfied: requests in /opt/anaconda3/lib/python3.8/site-packages (from webdriver_manager) (2.24.0)\n",
      "Requirement already satisfied: colorama in /opt/anaconda3/lib/python3.8/site-packages (from crayons->webdriver_manager) (0.4.3)\n",
      "Requirement already satisfied: certifi>=2017.4.17 in /opt/anaconda3/lib/python3.8/site-packages (from requests->webdriver_manager) (2020.6.20)\n",
      "Requirement already satisfied: urllib3!=1.25.0,!=1.25.1,<1.26,>=1.21.1 in /opt/anaconda3/lib/python3.8/site-packages (from requests->webdriver_manager) (1.25.9)\n",
      "Requirement already satisfied: idna<3,>=2.5 in /opt/anaconda3/lib/python3.8/site-packages (from requests->webdriver_manager) (2.10)\n",
      "Requirement already satisfied: chardet<4,>=3.0.2 in /opt/anaconda3/lib/python3.8/site-packages (from requests->webdriver_manager) (3.0.4)\n",
      "Requirement already satisfied: pygsheets in /opt/anaconda3/lib/python3.8/site-packages (2.0.3.1)\n",
      "Requirement already satisfied: oauth2client in /opt/anaconda3/lib/python3.8/site-packages (from pygsheets) (4.1.3)\n",
      "Requirement already satisfied: google-auth-oauthlib in /opt/anaconda3/lib/python3.8/site-packages (from pygsheets) (0.4.2)\n",
      "Requirement already satisfied: google-api-python-client>=1.5.5 in /opt/anaconda3/lib/python3.8/site-packages (from pygsheets) (1.12.8)\n",
      "Requirement already satisfied: pyasn1-modules>=0.0.5 in /opt/anaconda3/lib/python3.8/site-packages (from oauth2client->pygsheets) (0.2.8)\n",
      "Requirement already satisfied: httplib2>=0.9.1 in /opt/anaconda3/lib/python3.8/site-packages (from oauth2client->pygsheets) (0.18.1)\n",
      "Requirement already satisfied: six>=1.6.1 in /opt/anaconda3/lib/python3.8/site-packages (from oauth2client->pygsheets) (1.15.0)\n",
      "Requirement already satisfied: pyasn1>=0.1.7 in /opt/anaconda3/lib/python3.8/site-packages (from oauth2client->pygsheets) (0.4.8)\n",
      "Requirement already satisfied: rsa>=3.1.4 in /opt/anaconda3/lib/python3.8/site-packages (from oauth2client->pygsheets) (4.6)\n",
      "Requirement already satisfied: requests-oauthlib>=0.7.0 in /opt/anaconda3/lib/python3.8/site-packages (from google-auth-oauthlib->pygsheets) (1.3.0)\n",
      "Requirement already satisfied: google-auth in /opt/anaconda3/lib/python3.8/site-packages (from google-auth-oauthlib->pygsheets) (1.23.0)\n",
      "Requirement already satisfied: google-api-core<2dev,>=1.21.0 in /opt/anaconda3/lib/python3.8/site-packages (from google-api-python-client>=1.5.5->pygsheets) (1.23.0)\n",
      "Requirement already satisfied: uritemplate<4dev,>=3.0.0 in /opt/anaconda3/lib/python3.8/site-packages (from google-api-python-client>=1.5.5->pygsheets) (3.0.1)\n",
      "Requirement already satisfied: google-auth-httplib2>=0.0.3 in /opt/anaconda3/lib/python3.8/site-packages (from google-api-python-client>=1.5.5->pygsheets) (0.0.4)\n",
      "Requirement already satisfied: requests>=2.0.0 in /opt/anaconda3/lib/python3.8/site-packages (from requests-oauthlib>=0.7.0->google-auth-oauthlib->pygsheets) (2.24.0)\n",
      "Requirement already satisfied: oauthlib>=3.0.0 in /opt/anaconda3/lib/python3.8/site-packages (from requests-oauthlib>=0.7.0->google-auth-oauthlib->pygsheets) (3.1.0)\n",
      "Requirement already satisfied: cachetools<5.0,>=2.0.0 in /opt/anaconda3/lib/python3.8/site-packages (from google-auth->google-auth-oauthlib->pygsheets) (4.1.1)\n",
      "Requirement already satisfied: setuptools>=40.3.0 in /opt/anaconda3/lib/python3.8/site-packages (from google-auth->google-auth-oauthlib->pygsheets) (49.2.0.post20200714)\n",
      "Requirement already satisfied: googleapis-common-protos<2.0dev,>=1.6.0 in /opt/anaconda3/lib/python3.8/site-packages (from google-api-core<2dev,>=1.21.0->google-api-python-client>=1.5.5->pygsheets) (1.52.0)\n",
      "Requirement already satisfied: pytz in /opt/anaconda3/lib/python3.8/site-packages (from google-api-core<2dev,>=1.21.0->google-api-python-client>=1.5.5->pygsheets) (2020.1)\n",
      "Requirement already satisfied: protobuf>=3.12.0 in /opt/anaconda3/lib/python3.8/site-packages (from google-api-core<2dev,>=1.21.0->google-api-python-client>=1.5.5->pygsheets) (3.14.0)\n",
      "Requirement already satisfied: chardet<4,>=3.0.2 in /opt/anaconda3/lib/python3.8/site-packages (from requests>=2.0.0->requests-oauthlib>=0.7.0->google-auth-oauthlib->pygsheets) (3.0.4)\n",
      "Requirement already satisfied: idna<3,>=2.5 in /opt/anaconda3/lib/python3.8/site-packages (from requests>=2.0.0->requests-oauthlib>=0.7.0->google-auth-oauthlib->pygsheets) (2.10)\n",
      "Requirement already satisfied: urllib3!=1.25.0,!=1.25.1,<1.26,>=1.21.1 in /opt/anaconda3/lib/python3.8/site-packages (from requests>=2.0.0->requests-oauthlib>=0.7.0->google-auth-oauthlib->pygsheets) (1.25.9)\n",
      "Requirement already satisfied: certifi>=2017.4.17 in /opt/anaconda3/lib/python3.8/site-packages (from requests>=2.0.0->requests-oauthlib>=0.7.0->google-auth-oauthlib->pygsheets) (2020.6.20)\n",
      "Requirement already up-to-date: google-api-python-client in /opt/anaconda3/lib/python3.8/site-packages (1.12.8)\n",
      "Requirement already up-to-date: google-auth-httplib2 in /opt/anaconda3/lib/python3.8/site-packages (0.0.4)\n",
      "Requirement already up-to-date: google-auth-oauthlib in /opt/anaconda3/lib/python3.8/site-packages (0.4.2)\n",
      "Requirement already satisfied, skipping upgrade: uritemplate<4dev,>=3.0.0 in /opt/anaconda3/lib/python3.8/site-packages (from google-api-python-client) (3.0.1)\n",
      "Requirement already satisfied, skipping upgrade: six<2dev,>=1.13.0 in /opt/anaconda3/lib/python3.8/site-packages (from google-api-python-client) (1.15.0)\n",
      "Requirement already satisfied, skipping upgrade: google-auth>=1.16.0 in /opt/anaconda3/lib/python3.8/site-packages (from google-api-python-client) (1.23.0)\n",
      "Requirement already satisfied, skipping upgrade: google-api-core<2dev,>=1.21.0 in /opt/anaconda3/lib/python3.8/site-packages (from google-api-python-client) (1.23.0)\n",
      "Requirement already satisfied, skipping upgrade: httplib2<1dev,>=0.15.0 in /opt/anaconda3/lib/python3.8/site-packages (from google-api-python-client) (0.18.1)\n",
      "Requirement already satisfied, skipping upgrade: requests-oauthlib>=0.7.0 in /opt/anaconda3/lib/python3.8/site-packages (from google-auth-oauthlib) (1.3.0)\n",
      "Requirement already satisfied, skipping upgrade: setuptools>=40.3.0 in /opt/anaconda3/lib/python3.8/site-packages (from google-auth>=1.16.0->google-api-python-client) (49.2.0.post20200714)\n",
      "Requirement already satisfied, skipping upgrade: rsa<5,>=3.1.4; python_version >= \"3.5\" in /opt/anaconda3/lib/python3.8/site-packages (from google-auth>=1.16.0->google-api-python-client) (4.6)\n",
      "Requirement already satisfied, skipping upgrade: cachetools<5.0,>=2.0.0 in /opt/anaconda3/lib/python3.8/site-packages (from google-auth>=1.16.0->google-api-python-client) (4.1.1)\n",
      "Requirement already satisfied, skipping upgrade: pyasn1-modules>=0.2.1 in /opt/anaconda3/lib/python3.8/site-packages (from google-auth>=1.16.0->google-api-python-client) (0.2.8)\n",
      "Requirement already satisfied, skipping upgrade: requests<3.0.0dev,>=2.18.0 in /opt/anaconda3/lib/python3.8/site-packages (from google-api-core<2dev,>=1.21.0->google-api-python-client) (2.24.0)\n",
      "Requirement already satisfied, skipping upgrade: protobuf>=3.12.0 in /opt/anaconda3/lib/python3.8/site-packages (from google-api-core<2dev,>=1.21.0->google-api-python-client) (3.14.0)\n",
      "Requirement already satisfied, skipping upgrade: pytz in /opt/anaconda3/lib/python3.8/site-packages (from google-api-core<2dev,>=1.21.0->google-api-python-client) (2020.1)\n",
      "Requirement already satisfied, skipping upgrade: googleapis-common-protos<2.0dev,>=1.6.0 in /opt/anaconda3/lib/python3.8/site-packages (from google-api-core<2dev,>=1.21.0->google-api-python-client) (1.52.0)\n",
      "Requirement already satisfied, skipping upgrade: oauthlib>=3.0.0 in /opt/anaconda3/lib/python3.8/site-packages (from requests-oauthlib>=0.7.0->google-auth-oauthlib) (3.1.0)\n"
     ]
    },
    {
     "name": "stdout",
     "output_type": "stream",
     "text": [
      "Requirement already satisfied, skipping upgrade: pyasn1>=0.1.3 in /opt/anaconda3/lib/python3.8/site-packages (from rsa<5,>=3.1.4; python_version >= \"3.5\"->google-auth>=1.16.0->google-api-python-client) (0.4.8)\r\n",
      "Requirement already satisfied, skipping upgrade: certifi>=2017.4.17 in /opt/anaconda3/lib/python3.8/site-packages (from requests<3.0.0dev,>=2.18.0->google-api-core<2dev,>=1.21.0->google-api-python-client) (2020.6.20)\r\n",
      "Requirement already satisfied, skipping upgrade: idna<3,>=2.5 in /opt/anaconda3/lib/python3.8/site-packages (from requests<3.0.0dev,>=2.18.0->google-api-core<2dev,>=1.21.0->google-api-python-client) (2.10)\r\n",
      "Requirement already satisfied, skipping upgrade: chardet<4,>=3.0.2 in /opt/anaconda3/lib/python3.8/site-packages (from requests<3.0.0dev,>=2.18.0->google-api-core<2dev,>=1.21.0->google-api-python-client) (3.0.4)\r\n",
      "Requirement already satisfied, skipping upgrade: urllib3!=1.25.0,!=1.25.1,<1.26,>=1.21.1 in /opt/anaconda3/lib/python3.8/site-packages (from requests<3.0.0dev,>=2.18.0->google-api-core<2dev,>=1.21.0->google-api-python-client) (1.25.9)\r\n"
     ]
    }
   ],
   "source": [
    "!apt update\n",
    "!apt install chromium-chromedriver\n",
    "\n",
    "# 检查环境中是否有selenium/webdriver_manager，若无，则直接安装\n",
    "# 安装依赖\n",
    "!pip install selenium\n",
    "!pip install webdriver_manager\n",
    "\n",
    "# https://developers.google.com/drive/api/v3/quickstart/python\n",
    "!pip install pygsheets\n",
    "!pip install -U google-api-python-client google-auth-httplib2 google-auth-oauthlib\n"
   ]
  },
  {
   "cell_type": "code",
   "execution_count": 2,
   "metadata": {
    "ExecuteTime": {
     "end_time": "2020-12-30T03:52:30.999872Z",
     "start_time": "2020-12-30T03:52:30.712695Z"
    }
   },
   "outputs": [],
   "source": [
    "from selenium import webdriver\n",
    "from webdriver_manager.chrome import ChromeDriverManager\n",
    "import time\n",
    "from selenium.webdriver.chrome.options import Options\n",
    "from selenium.webdriver.common.by import By\n",
    "from selenium.webdriver.support.ui import WebDriverWait\n",
    "from selenium.webdriver.common.action_chains import ActionChains"
   ]
  },
  {
   "cell_type": "code",
   "execution_count": 3,
   "metadata": {
    "ExecuteTime": {
     "end_time": "2020-12-30T03:52:33.282254Z",
     "start_time": "2020-12-30T03:52:31.017696Z"
    }
   },
   "outputs": [
    {
     "name": "stdout",
     "output_type": "stream",
     "text": [
      "/Users/anker/.google_helper\n"
     ]
    }
   ],
   "source": [
    "# 这一块代码，大家可以不需要了解意思，只要 copy 过来就好了\n",
    "from __future__ import print_function\n",
    "from pathlib import Path\n",
    "import os\n",
    "import io\n",
    "import pickle\n",
    "import os.path\n",
    "from googleapiclient.discovery import build\n",
    "from google_auth_oauthlib.flow import InstalledAppFlow\n",
    "from google.auth.transport.requests import Request\n",
    "from apiclient import errors\n",
    "from googleapiclient.http import MediaIoBaseDownload\n",
    "\n",
    "import pygsheets\n",
    "import pandas as pd\n",
    "\n",
    "# If modifying these scopes, delete the file token.pickle.\n",
    "SCOPES = [\n",
    "    'https://www.googleapis.com/auth/spreadsheets',\n",
    "    'https://www.googleapis.com/auth/drive'\n",
    "]\n",
    "\n",
    "# add profile just for support different google accounts\n",
    "def get_creds(profile=\"\"):\n",
    "    \"\"\"Shows basic usage of the Drive v3 API.\n",
    "    Prints the names and ids of the first 10 files the user has access to.\n",
    "    \"\"\"\n",
    "    creds = None\n",
    "    # The file token.pickle stores the user's access and refresh tokens, and is\n",
    "    # created automatically when the authorization flow completes for the first\n",
    "    # time.\n",
    "    home = str(Path.home())\n",
    "    google_helper = os.path.join(home,\".google_helper\")\n",
    "    print(google_helper)\n",
    "    Path(google_helper).mkdir(parents=True, exist_ok=True)\n",
    "    \n",
    "    if len(profile)>0:\n",
    "        token_path = os.path.join(home,\".google_helper\",\"{}_token.pickle\".format(profile))\n",
    "        credential_path = os.path.join(home,\".google_helper\",\"{}_credentials.json\".format(profile))\n",
    "    else:\n",
    "        token_path = os.path.join(home,\".google_helper\",\"token.pickle\")\n",
    "        credential_path = os.path.join(home,\".google_helper\",\"credentials.json\")\n",
    "\n",
    "    if not os.path.exists(credential_path):\n",
    "        print(\"Google 授权文件:{}, 不存在!\".format(credential_path))\n",
    "        print(\"请把 credentials.json 放在 {} 这个目录下 :\".format(google_helper))\n",
    "        return None\n",
    "        \n",
    "    if os.path.exists(token_path):\n",
    "        with open(token_path, 'rb') as token:\n",
    "            creds = pickle.load(token)\n",
    "    \n",
    "    # If there are no (valid) credentials available, let the user log in.\n",
    "    if not creds or not creds.valid:\n",
    "        if creds and creds.expired and creds.refresh_token:\n",
    "            creds.refresh(Request())\n",
    "        else:\n",
    "            flow = InstalledAppFlow.from_client_secrets_file(\n",
    "                credential_path, SCOPES)\n",
    "            creds = flow.run_local_server(port=0)\n",
    "        # Save the credentials for the next run\n",
    "        with open(token_path, 'wb') as token:\n",
    "            pickle.dump(creds, token)\n",
    "    return creds\n",
    "# 得到 google drive/sheet 的权限\n",
    "creds = get_creds()\n",
    "if creds is None:\n",
    "    print(\"请配好权限！\")"
   ]
  },
  {
   "cell_type": "code",
   "execution_count": 4,
   "metadata": {
    "ExecuteTime": {
     "end_time": "2020-12-30T03:52:55.345621Z",
     "start_time": "2020-12-30T03:52:33.311874Z"
    },
    "scrolled": true
   },
   "outputs": [
    {
     "name": "stderr",
     "output_type": "stream",
     "text": [
      "[WDM] - Current google-chrome version is 87.0.4280\n",
      "[WDM] - Get LATEST driver version for 87.0.4280\n",
      "[WDM] - There is no [mac64] chromedriver for browser 87.0.4280 in cache\n",
      "[WDM] - Get LATEST driver version for 87.0.4280\n"
     ]
    },
    {
     "name": "stdout",
     "output_type": "stream",
     "text": [
      " \n"
     ]
    },
    {
     "name": "stderr",
     "output_type": "stream",
     "text": [
      "[WDM] - Trying to download new driver from http://chromedriver.storage.googleapis.com/87.0.4280.88/chromedriver_mac64.zip\n",
      "[WDM] - Driver has been saved in cache [/Users/anker/.wdm/drivers/chromedriver/mac64/87.0.4280.88]\n"
     ]
    }
   ],
   "source": [
    "chrome_options = webdriver.ChromeOptions()\n",
    "###chrome_options.add_argument('--user-data-dir=chrome-data') # 使用chrome缓存的用户信息\n",
    "\n",
    "# 其它使用ChromeDriverManager(要求系统中有chrome浏览器)\n",
    "driver = webdriver.Chrome(ChromeDriverManager().install(), options=chrome_options)\n",
    "\n",
    "# 最大化窗口\n",
    "driver.maximize_window()\n",
    "# 全屏显示\n",
    "#driver.fullscreen_window()"
   ]
  },
  {
   "cell_type": "markdown",
   "metadata": {},
   "source": [
    "## 主程序"
   ]
  },
  {
   "cell_type": "code",
   "execution_count": 5,
   "metadata": {
    "ExecuteTime": {
     "end_time": "2020-12-30T03:53:08.219125Z",
     "start_time": "2020-12-30T03:52:55.391997Z"
    }
   },
   "outputs": [],
   "source": [
    "## 定义访问的链接\n",
    "## 定位到美国站点，本来希望访问bestbuy.com，再选择美国站点，但是定位不到美国站点选择的button,只好直接使用了美国站点的网页链接。\n",
    "HOME_URL = 'https://www.bestbuy.com/?intl=nosplash'\n",
    "## 访问链接\n",
    "driver.get(HOME_URL)\n",
    "\n",
    "## 关掉弹出来的广告?\n",
    "ad_path = '//*[@id=\"widgets-view-email-modal-mount\"]/div/div/div[1]/div/div/div/div/button'\n",
    "driver.find_element_by_xpath(ad_path).click()"
   ]
  },
  {
   "cell_type": "code",
   "execution_count": 6,
   "metadata": {
    "ExecuteTime": {
     "end_time": "2020-12-30T03:53:08.261544Z",
     "start_time": "2020-12-30T03:53:08.244811Z"
    }
   },
   "outputs": [],
   "source": [
    "# 搜索/\n",
    "def search_brand(brand):\n",
    "    ## 定位到搜索框  //*[@id=\"gh-search-input\"]\n",
    "    search_input_path = '//*[@id=\"gh-search-input\"]'\n",
    "    search_input = driver.find_element_by_xpath(search_input_path)\n",
    "    time.sleep(3)\n",
    "    ## 输入要搜索的关键词\n",
    "    search_input.send_keys(brand)\n",
    "    ## 点击搜索 //*[@id=\"header-block\"]/div[2]/div[1]/div/div[2]/div/div[1]/div/div/form/button[2]\n",
    "    search_click_path = '//*[@id=\"header-block\"]/div[2]/div[1]/div/div[2]/div/div[1]/div/div/form/button[2]'\n",
    "    driver.find_element_by_xpath(search_click_path).click()\n",
    "    return\n",
    "\n",
    "\n",
    "# 读取谷歌文件\n",
    "def read_google(filePath,sheet_Name):\n",
    "    gc = pygsheets.authorize(custom_credentials=creds)\n",
    "    sh = gc.open_by_url(filePath)\n",
    "    current_sheet = sh.worksheet_by_title(sheet_Name)\n",
    "    return current_sheet\n",
    "\n",
    "\n",
    "## 将抓取到的信息封装成一个字典\n",
    "def get_sku_item_info(element_item):\n",
    "    sku_title = element_item.find_element_by_xpath(\".//*[@class='sku-header']\").text\n",
    "    sku = element_item.find_element_by_xpath(\".//*[@class='sku-value']\").text\n",
    "    sale_price = element_item.find_element_by_xpath(\".//*[@class='priceView-hero-price priceView-customer-price']/span[1]\").text\n",
    "    regular_price = 0\n",
    "    try:\n",
    "        regular_price = element_item.find_element_by_xpath(\".//*[@class='pricing-price__regular-price']\").text\n",
    "    except:\n",
    "        regular_price = sale_price\n",
    "        \n",
    "    ##  可以在这里继续加数据 抓取剩余的数据,比如图片\n",
    "    return {\"sku_title\":sku_title,\"sku\":sku,\"sale_price\":sale_price,\"regular_price\":regular_price}\n",
    "\n",
    "   "
   ]
  },
  {
   "cell_type": "code",
   "execution_count": null,
   "metadata": {
    "ExecuteTime": {
     "start_time": "2020-12-30T03:52:24.817Z"
    },
    "scrolled": true
   },
   "outputs": [],
   "source": [
    "## 没有翻页的\n",
    "\n",
    "\n",
    "## 现在可以手动修改brand和work sheet名字，后续可以写一个for函数，去https://docs.google.com/spreadsheets/d/1XzBC6LqIQ0S_ZerI6tqgV17my9G5N92cQSZdWeZaGBw/edit#gid=1844979788读取表格 然后循环查询不同的brand,这样的话还需要清空原来的搜索框\n",
    "brand = 'eufy Security'\n",
    "search_brand(brand)\n",
    "## 搜索后默认加等待时间，防止网页还没加载完成报错\n",
    "time.sleep(10)\n",
    "\n",
    "sku_list = []\n",
    "result_element =  driver.find_elements_by_xpath('//*[@id=\"main-results\"]/ol/li')\n",
    "## 注意try except的用法\n",
    "for element_item in result_element:\n",
    "    try:\n",
    "        sku_list.append(get_sku_item_info(element_item))\n",
    "    except:\n",
    "        print(\"Main Results Continued\")\n",
    "\n",
    "## 利用字典 拼接df数据 https://blog.csdn.net/u010199356/article/details/85697860 学会查资料\n",
    "df = pd.DataFrame(sku_list, columns = [\"sku_title\", \"sku\", \"sale_price\",\"regular_price\"])\n",
    "\n",
    "# 读取Google Sheet并写入(现在是完全覆盖，以后想写成标注好日期，每天在后面接着前一天的数据写)\n",
    "sheet = read_google('https://docs.google.com/spreadsheets/d/1XzBC6LqIQ0S_ZerI6tqgV17my9G5N92cQSZdWeZaGBw/edit#gid=0','eufy Security')\n",
    "sheet.set_dataframe(df,(1,1))\n",
    "df"
   ]
  },
  {
   "cell_type": "code",
   "execution_count": null,
   "metadata": {
    "ExecuteTime": {
     "start_time": "2020-12-30T03:52:25.816Z"
    }
   },
   "outputs": [],
   "source": [
    "check_price = \"$199.8\"\n",
    "check_price_reg = \"Reg $1999.99\"\n",
    "print(check_price.replace(\"$\",\"\"))\n",
    "print(check_price_reg.replace(\"$\",\"\").replace(\"Reg\",\"\").replace(\" \",\"\"))\n",
    "float(check_price_reg.replace(\"$\",\"\").replace(\"Reg\",\"\").replace(\" \",\"\"))-float(check_price.replace(\"$\",\"\"))"
   ]
  },
  {
   "cell_type": "code",
   "execution_count": null,
   "metadata": {},
   "outputs": [],
   "source": []
  },
  {
   "cell_type": "code",
   "execution_count": null,
   "metadata": {},
   "outputs": [],
   "source": []
  },
  {
   "cell_type": "code",
   "execution_count": null,
   "metadata": {},
   "outputs": [],
   "source": []
  }
 ],
 "metadata": {
  "kernelspec": {
   "display_name": "Python 3",
   "language": "python",
   "name": "python3"
  },
  "language_info": {
   "codemirror_mode": {
    "name": "ipython",
    "version": 3
   },
   "file_extension": ".py",
   "mimetype": "text/x-python",
   "name": "python",
   "nbconvert_exporter": "python",
   "pygments_lexer": "ipython3",
   "version": "3.8.3"
  },
  "toc": {
   "base_numbering": 1,
   "nav_menu": {},
   "number_sections": true,
   "sideBar": true,
   "skip_h1_title": false,
   "title_cell": "Table of Contents",
   "title_sidebar": "Contents",
   "toc_cell": false,
   "toc_position": {},
   "toc_section_display": true,
   "toc_window_display": false
  },
  "varInspector": {
   "cols": {
    "lenName": 16,
    "lenType": 16,
    "lenVar": 40
   },
   "kernels_config": {
    "python": {
     "delete_cmd_postfix": "",
     "delete_cmd_prefix": "del ",
     "library": "var_list.py",
     "varRefreshCmd": "print(var_dic_list())"
    },
    "r": {
     "delete_cmd_postfix": ") ",
     "delete_cmd_prefix": "rm(",
     "library": "var_list.r",
     "varRefreshCmd": "cat(var_dic_list()) "
    }
   },
   "types_to_exclude": [
    "module",
    "function",
    "builtin_function_or_method",
    "instance",
    "_Feature"
   ],
   "window_display": false
  }
 },
 "nbformat": 4,
 "nbformat_minor": 4
}
